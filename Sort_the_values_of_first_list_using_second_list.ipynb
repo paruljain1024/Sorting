{
  "nbformat": 4,
  "nbformat_minor": 0,
  "metadata": {
    "colab": {
      "provenance": [],
      "authorship_tag": "ABX9TyPIfYuIZceF2bKQ3tNyUrvj",
      "include_colab_link": true
    },
    "kernelspec": {
      "name": "python3",
      "display_name": "Python 3"
    },
    "language_info": {
      "name": "python"
    }
  },
  "cells": [
    {
      "cell_type": "markdown",
      "metadata": {
        "id": "view-in-github",
        "colab_type": "text"
      },
      "source": [
        "<a href=\"https://colab.research.google.com/github/paruljain1024/Sorting/blob/main/Sort_the_values_of_first_list_using_second_list.ipynb\" target=\"_parent\"><img src=\"https://colab.research.google.com/assets/colab-badge.svg\" alt=\"Open In Colab\"/></a>"
      ]
    },
    {
      "cell_type": "code",
      "execution_count": 1,
      "metadata": {
        "colab": {
          "base_uri": "https://localhost:8080/"
        },
        "id": "tr18-HBwFf0B",
        "outputId": "389dea04-3d66-459f-c659-6dc3120d1308"
      },
      "outputs": [
        {
          "output_type": "stream",
          "name": "stdout",
          "text": [
            "['a', 'd', 'h', 'b', 'c', 'e', 'i', 'f', 'g']\n",
            "['g', 'k', 'r', 'e', 'e', 'g', 's', 'f', 'o']\n"
          ]
        }
      ],
      "source": [
        "# Python program to sort\n",
        "# one list using\n",
        "# the other list\n",
        "\n",
        "\n",
        "def sort_list(list1, list2):\n",
        "\n",
        "\tzipped_pairs = zip(list2, list1)\n",
        "\n",
        "\tz = [x for _, x in sorted(zipped_pairs)]\n",
        "\n",
        "\treturn z\n",
        "\n",
        "\n",
        "# driver code\n",
        "x = [\"a\", \"b\", \"c\", \"d\", \"e\", \"f\", \"g\", \"h\", \"i\"]\n",
        "y = [0, 1, 1, 0, 1, 2, 2, 0, 1]\n",
        "\n",
        "print(sort_list(x, y))\n",
        "\n",
        "x = [\"g\", \"e\", \"e\", \"k\", \"s\", \"f\", \"o\", \"r\", \"g\", \"e\", \"e\", \"k\", \"s\"]\n",
        "y = [0, 1, 1, 0, 1, 2, 2, 0, 1]\n",
        "\n",
        "print(sort_list(x, y))\n"
      ]
    }
  ]
}